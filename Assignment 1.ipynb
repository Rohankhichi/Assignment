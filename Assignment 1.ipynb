{
 "cells": [
  {
   "cell_type": "code",
   "execution_count": 1,
   "id": "6a119253-87da-4db2-8c19-bd2ce36bdbc0",
   "metadata": {},
   "outputs": [],
   "source": [
    "a = 'Rohan Khichi'           # Qusetion 1 Str,List,float,Tuple"
   ]
  },
  {
   "cell_type": "code",
   "execution_count": 2,
   "id": "c001b813-0a27-4945-a243-a4d2ef95b8ad",
   "metadata": {},
   "outputs": [
    {
     "data": {
      "text/plain": [
       "str"
      ]
     },
     "execution_count": 2,
     "metadata": {},
     "output_type": "execute_result"
    }
   ],
   "source": [
    "type(a)"
   ]
  },
  {
   "cell_type": "code",
   "execution_count": 4,
   "id": "17a66863-1395-4aa9-9428-c0aa8a3e5f2e",
   "metadata": {},
   "outputs": [],
   "source": [
    "a1 = [1,2,3,4, 2.34, True, False, 'Rohan', 8+8j]"
   ]
  },
  {
   "cell_type": "code",
   "execution_count": 5,
   "id": "6e1c389b-fb7c-441f-ae95-d7455c5b9ff2",
   "metadata": {},
   "outputs": [
    {
     "data": {
      "text/plain": [
       "list"
      ]
     },
     "execution_count": 5,
     "metadata": {},
     "output_type": "execute_result"
    }
   ],
   "source": [
    "type(a1)"
   ]
  },
  {
   "cell_type": "code",
   "execution_count": 6,
   "id": "8ad22c04-b527-46f7-a7c0-22211df64399",
   "metadata": {},
   "outputs": [],
   "source": [
    "a2 = 24.09"
   ]
  },
  {
   "cell_type": "code",
   "execution_count": 7,
   "id": "ff12cb93-c962-45c5-8bbf-a23997349e7d",
   "metadata": {},
   "outputs": [
    {
     "data": {
      "text/plain": [
       "float"
      ]
     },
     "execution_count": 7,
     "metadata": {},
     "output_type": "execute_result"
    }
   ],
   "source": [
    "type(a2)"
   ]
  },
  {
   "cell_type": "code",
   "execution_count": 8,
   "id": "b240d71d-9f36-49a5-8db8-9373e14255fd",
   "metadata": {},
   "outputs": [],
   "source": [
    "a3 = (1,2,3,4, 2.34, True, False, 'Rohan', 8+8j)"
   ]
  },
  {
   "cell_type": "code",
   "execution_count": 9,
   "id": "2a7d4bef-7f7b-42ef-abee-83323d320697",
   "metadata": {},
   "outputs": [
    {
     "data": {
      "text/plain": [
       "tuple"
      ]
     },
     "execution_count": 9,
     "metadata": {},
     "output_type": "execute_result"
    }
   ],
   "source": [
    "type(a3)"
   ]
  },
  {
   "cell_type": "code",
   "execution_count": 16,
   "id": "911ccb49-6679-4761-8903-6cfecd3ecc68",
   "metadata": {},
   "outputs": [],
   "source": [
    "# Question 2\n",
    "# 1 = String Variable\n",
    "# 2 = String\n",
    "# 3 = List\n",
    "# 4 = Float"
   ]
  },
  {
   "cell_type": "code",
   "execution_count": 24,
   "id": "0bda5624-f4c5-48b9-a229-79f9da8c8e1e",
   "metadata": {},
   "outputs": [],
   "source": [
    "# Question 3\n",
    "# 1 = Float\n",
    "# 2 = int\n",
    "# 3 = int\n",
    "# 4 = int\n"
   ]
  },
  {
   "cell_type": "code",
   "execution_count": 1,
   "id": "5dde5247-a31c-4aa0-885a-261326bf1e15",
   "metadata": {},
   "outputs": [],
   "source": [
    "# Question 4\n",
    "l = [1,2,4,5,8.6, True, 5+9j, 'Rohan']\n"
   ]
  },
  {
   "cell_type": "code",
   "execution_count": 8,
   "id": "a70053eb-2c4b-4d38-a990-d845158c0c81",
   "metadata": {},
   "outputs": [
    {
     "name": "stdout",
     "output_type": "stream",
     "text": [
      "1\n",
      "2\n",
      "4\n",
      "5\n",
      "8.6\n",
      "True\n",
      "(5+9j)\n",
      "Rohan\n"
     ]
    }
   ],
   "source": [
    "for r in l:\n",
    "    print(r)"
   ]
  },
  {
   "cell_type": "code",
   "execution_count": 9,
   "id": "990ba987-00fd-422a-9dbd-a6e20859c0ae",
   "metadata": {},
   "outputs": [],
   "source": [
    "#Question 5\n",
    "l1 = [1,3,4,5,7,5,6,9,12,24,56,88,44,30,43,23,56,89,130,90,55,45,33]"
   ]
  },
  {
   "cell_type": "code",
   "execution_count": 20,
   "id": "04c4cf4f-c08b-4986-9787-240bddfa8e31",
   "metadata": {},
   "outputs": [
    {
     "ename": "SyntaxError",
     "evalue": "invalid syntax (887865762.py, line 2)",
     "output_type": "error",
     "traceback": [
      "\u001b[0;36m  Cell \u001b[0;32mIn[20], line 2\u001b[0;36m\u001b[0m\n\u001b[0;31m    if l1 / 3 and not:\u001b[0m\n\u001b[0m                     ^\u001b[0m\n\u001b[0;31mSyntaxError\u001b[0m\u001b[0;31m:\u001b[0m invalid syntax\n"
     ]
    }
   ],
   "source": []
  },
  {
   "cell_type": "code",
   "execution_count": 21,
   "id": "7b98f42a-a746-4e51-ba0a-a23fe7487bba",
   "metadata": {},
   "outputs": [],
   "source": [
    "#Question 7\n",
    "#Mutable\n",
    "l = [1,2,3,4,'Data Science']"
   ]
  },
  {
   "cell_type": "code",
   "execution_count": 22,
   "id": "f16eec22-911e-42af-90b8-87f172c4748e",
   "metadata": {},
   "outputs": [],
   "source": [
    "l[4] = 'Data Science Master'"
   ]
  },
  {
   "cell_type": "code",
   "execution_count": 23,
   "id": "6ffc3274-e516-49ba-8b67-8ae5ca3058bf",
   "metadata": {},
   "outputs": [
    {
     "data": {
      "text/plain": [
       "[1, 2, 3, 4, 'Data Science Master']"
      ]
     },
     "execution_count": 23,
     "metadata": {},
     "output_type": "execute_result"
    }
   ],
   "source": [
    "l #we can easily replace Data in list because list are mutable"
   ]
  },
  {
   "cell_type": "code",
   "execution_count": 24,
   "id": "f80c94b7-07a4-4e39-8648-3ea9e6541cb3",
   "metadata": {},
   "outputs": [],
   "source": [
    "t = (1,2,3,4,'Data Science')"
   ]
  },
  {
   "cell_type": "code",
   "execution_count": 26,
   "id": "824da68a-68f4-452f-81f1-59da953ab9c1",
   "metadata": {},
   "outputs": [
    {
     "ename": "TypeError",
     "evalue": "'tuple' object does not support item assignment",
     "output_type": "error",
     "traceback": [
      "\u001b[0;31m---------------------------------------------------------------------------\u001b[0m",
      "\u001b[0;31mTypeError\u001b[0m                                 Traceback (most recent call last)",
      "Cell \u001b[0;32mIn[26], line 1\u001b[0m\n\u001b[0;32m----> 1\u001b[0m \u001b[43mt\u001b[49m\u001b[43m[\u001b[49m\u001b[38;5;241;43m4\u001b[39;49m\u001b[43m]\u001b[49m \u001b[38;5;241m=\u001b[39m \u001b[38;5;124m'\u001b[39m\u001b[38;5;124mh\u001b[39m\u001b[38;5;124m'\u001b[39m \u001b[38;5;66;03m#tuples are immutable and they does't replace any form of data\u001b[39;00m\n",
      "\u001b[0;31mTypeError\u001b[0m: 'tuple' object does not support item assignment"
     ]
    }
   ],
   "source": [
    "t[4] = 'h' #tuples are immutable and they does't replace any form of data"
   ]
  },
  {
   "cell_type": "code",
   "execution_count": null,
   "id": "8c9516ba-b0f8-4a58-95e1-b181b5849a29",
   "metadata": {},
   "outputs": [],
   "source": []
  }
 ],
 "metadata": {
  "kernelspec": {
   "display_name": "Python 3 (ipykernel)",
   "language": "python",
   "name": "python3"
  },
  "language_info": {
   "codemirror_mode": {
    "name": "ipython",
    "version": 3
   },
   "file_extension": ".py",
   "mimetype": "text/x-python",
   "name": "python",
   "nbconvert_exporter": "python",
   "pygments_lexer": "ipython3",
   "version": "3.10.8"
  }
 },
 "nbformat": 4,
 "nbformat_minor": 5
}
